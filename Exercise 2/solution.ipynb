{
 "cells": [
  {
   "cell_type": "code",
   "execution_count": 57,
   "metadata": {},
   "outputs": [
    {
     "name": "stdout",
     "output_type": "stream",
     "text": [
      "\n",
      "1) Data set:>> {'data-set': array([[28, 52, 34, 35, 42, 62, 46, 54, 55, 25, 22, 57, 69, 37, 50, 34,\n",
      "        65, 27, 68, 65]]), 'mean': 46.35, 'variance': 225.72750000000002, 'std-dv': 15.024230429542806, 'median': 48.0, 'minimum': 22, 'maximum': 69}\n",
      "\n",
      "2a) Elements less than mean:>> 10\n",
      "\n",
      "2b) Z-scores:>> [[-1.22136039  0.37605919 -0.8220055  -0.75544635 -0.2895323   1.04165069\n",
      "  -0.0232957   0.50917749  0.57573664 -1.42103784 -1.62071529  0.70885494\n",
      "   1.50756474 -0.62232805  0.2429409  -0.8220055   1.24132814 -1.28791954\n",
      "   1.44100559  1.24132814]]\n",
      "All elements of the ndarray lie between -3 and 3\n",
      "\n",
      "3a\n"
     ]
    },
    {
     "data": {
      "image/png": "[encoded data removed]",
      "text/plain": [
       "<Figure size 432x288 with 1 Axes>"
      ]
     },
     "metadata": {
      "needs_background": "light"
     },
     "output_type": "display_data"
    },
    {
     "name": "stdout",
     "output_type": "stream",
     "text": [
      "================== After modifying the data set ==================\n",
      "4\n",
      "\n",
      "1) Data set:>> {'data-set': array([[ 28,  52,  34,  35,  42,  62,  46,  54,  55,  25,  22,  57,  69,\n",
      "         37,  50, 270,  65,  27,  68,  65]]), 'mean': 46.35, 'variance': 225.72750000000002, 'std-dv': 15.024230429542806, 'median': 48.0, 'minimum': 22, 'maximum': 69}\n",
      "\n",
      "2a) Elements less than mean:>> 9\n",
      "\n",
      "2b) Z-scores:>> [[-1.22136039  0.37605919 -0.8220055  -0.75544635 -0.2895323   1.04165069\n",
      "  -0.0232957   0.50917749  0.57573664 -1.42103784 -1.62071529  0.70885494\n",
      "   1.50756474 -0.62232805  0.2429409  14.8859538   1.24132814 -1.28791954\n",
      "   1.44100559  1.24132814]]\n",
      "One or more elements of the ndarray lie outside the (-3 <= x <= 3) range\n",
      "\n",
      "3a\n"
     ]
    },
    {
     "data": {
      "image/png": "[encoded data removed]",
      "text/plain": [
       "<Figure size 432x288 with 1 Axes>"
      ]
     },
     "metadata": {
      "needs_background": "light"
     },
     "output_type": "display_data"
    }
   ],
   "source": [
    "'''\n",
    "Working with NumPy, create a function whic generates 20 random integers between 20\n",
    "and 70.\n",
    "Compute the mean, variance, standard deviation, median, naximum and minimmum values\n",
    "of this data set. The result should be returned as a dictionary.\n",
    "Use appropraite names for the keys of the dictionary. The dictionary being returned\n",
    "should include the data generated as one of its values.\n",
    "'''\n",
    "\n",
    "import numpy as np\n",
    "import matplotlib.pyplot as plt\n",
    "\n",
    "class NpData:\n",
    "    def __init__(self, min, max, size=(1,1)):\n",
    "        self.arr = self._generateRandom(min, max, size)\n",
    "    \n",
    "    def _generateRandom(self, min, max, size):\n",
    "        return np.random.randint(min, max, size)\n",
    "    \n",
    "    def computeMinBool(self, val):\n",
    "        pass\n",
    "    \n",
    "    def computeZScores(self):\n",
    "        '''\n",
    "        (data - mean)/std\n",
    "        '''\n",
    "        arr = np.array([((n - self.result['mean'])/self.result['std-dv']) for n in self.arr])\n",
    "        return arr\n",
    "    \n",
    "    def computeProps(self):\n",
    "        result = {}\n",
    "        result['data-set'] = self.arr\n",
    "        result['mean'] = np.mean(self.arr)\n",
    "        result['variance'] = np.var(self.arr)\n",
    "        result['std-dv'] = np.std(self.arr)\n",
    "        result['median'] = np.median(self.arr)\n",
    "        result['minimum'] = np.amin(self.arr)\n",
    "        result['maximum'] = np.amax(self.arr)\n",
    "        \n",
    "        self.result = result\n",
    "        \n",
    "        return result\n",
    "    \n",
    "    def boxplot(self):\n",
    "        plt.boxplot(self.arr)\n",
    "        plt.show()\n",
    "        \n",
    "    def modify(self, idx, val):\n",
    "        self.arr[0, idx] = val\n",
    "    \n",
    "    \n",
    "data = NpData(20, 70, (1,20))\n",
    "result = data.computeProps()\n",
    "\n",
    "def question1():\n",
    "    print(\"\\n1) Data set:>> {}\".format(result))\n",
    "    \n",
    "def question2a():\n",
    "    p = np.sum(data.arr < result['mean'])\n",
    "    print(\"\\n2a) Elements less than mean:>> {}\".format(p))\n",
    "    \n",
    "def question2b():\n",
    "    p = data.computeZScores()\n",
    "    print(\"\\n2b) Z-scores:>> {}\".format(p))\n",
    "    q = np.all((p >= -3) & (p <= 3))\n",
    "    if (q == True):\n",
    "        print(\"All elements of the ndarray lie between -3 and 3\")\n",
    "    else:\n",
    "        print(\"One or more elements of the ndarray lie outside the (-3 <= x <= 3) range\")\n",
    "\n",
    "def question3a():\n",
    "    print(\"\\n3a\")\n",
    "    data.boxplot()\n",
    "    \n",
    "def question4():\n",
    "    print(\"================== After modifying the data set ==================\")\n",
    "    print(\"4\")\n",
    "    data.modify(15, 270)\n",
    "    question1()\n",
    "    question2a()\n",
    "    question2b()\n",
    "    question3a()\n",
    "  \n",
    "def runThroughEachQuestion():\n",
    "    question1()\n",
    "    question2a()\n",
    "    question2b()\n",
    "    question3a()\n",
    "    question4()\n",
    "        \n",
    "runThroughEachQuestion()\n"
   ]
  },
  {
   "cell_type": "code",
   "execution_count": null,
   "metadata": {},
   "outputs": [],
   "source": []
  },
  {
   "cell_type": "code",
   "execution_count": null,
   "metadata": {},
   "outputs": [],
   "source": []
  },
  {
   "cell_type": "code",
   "execution_count": null,
   "metadata": {},
   "outputs": [],
   "source": []
  },
  {
   "cell_type": "code",
   "execution_count": null,
   "metadata": {},
   "outputs": [],
   "source": []
  },
  {
   "cell_type": "code",
   "execution_count": null,
   "metadata": {},
   "outputs": [],
   "source": []
  }
 ],
 "metadata": {
  "kernelspec": {
   "display_name": "Python 3",
   "language": "python",
   "name": "python3"
  },
  "language_info": {
   "codemirror_mode": {
    "name": "ipython",
    "version": 3
   },
   "file_extension": ".py",
   "mimetype": "text/x-python",
   "name": "python",
   "nbconvert_exporter": "python",
   "pygments_lexer": "ipython3",
   "version": "3.8.5"
  }
 },
 "nbformat": 4,
 "nbformat_minor": 4
}
