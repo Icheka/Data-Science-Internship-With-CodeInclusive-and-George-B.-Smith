{
 "cells": [
  {
   "cell_type": "code",
   "execution_count": 52,
   "metadata": {},
   "outputs": [
    {
     "ename": "IndexError",
     "evalue": "index 15 is out of bounds for axis 0 with size 1",
     "output_type": "error",
     "traceback": [
      "\u001b[1;31m---------------------------------------------------------------------------\u001b[0m",
      "\u001b[1;31mIndexError\u001b[0m                                Traceback (most recent call last)",
      "\u001b[1;32m<ipython-input-52-7b160b3471c0>\u001b[0m in \u001b[0;36m<module>\u001b[1;34m\u001b[0m\n\u001b[0;32m     80\u001b[0m \u001b[1;33m\u001b[0m\u001b[0m\n\u001b[0;32m     81\u001b[0m \u001b[1;33m\u001b[0m\u001b[0m\n\u001b[1;32m---> 82\u001b[1;33m \u001b[0mquestion4\u001b[0m\u001b[1;33m(\u001b[0m\u001b[1;33m)\u001b[0m\u001b[1;33m\u001b[0m\u001b[1;33m\u001b[0m\u001b[0m\n\u001b[0m",
      "\u001b[1;32m<ipython-input-52-7b160b3471c0>\u001b[0m in \u001b[0;36mquestion4\u001b[1;34m()\u001b[0m\n\u001b[0;32m     73\u001b[0m \u001b[1;33m\u001b[0m\u001b[0m\n\u001b[0;32m     74\u001b[0m \u001b[1;32mdef\u001b[0m \u001b[0mquestion4\u001b[0m\u001b[1;33m(\u001b[0m\u001b[1;33m)\u001b[0m\u001b[1;33m:\u001b[0m\u001b[1;33m\u001b[0m\u001b[1;33m\u001b[0m\u001b[0m\n\u001b[1;32m---> 75\u001b[1;33m     \u001b[0mdata\u001b[0m\u001b[1;33m.\u001b[0m\u001b[0mmodify\u001b[0m\u001b[1;33m(\u001b[0m\u001b[1;36m15\u001b[0m\u001b[1;33m,\u001b[0m \u001b[1;36m270\u001b[0m\u001b[1;33m)\u001b[0m\u001b[1;33m\u001b[0m\u001b[1;33m\u001b[0m\u001b[0m\n\u001b[0m\u001b[0;32m     76\u001b[0m     \u001b[0mquestion1\u001b[0m\u001b[1;33m(\u001b[0m\u001b[1;33m)\u001b[0m\u001b[1;33m\u001b[0m\u001b[1;33m\u001b[0m\u001b[0m\n\u001b[0;32m     77\u001b[0m     \u001b[0mquestion2a\u001b[0m\u001b[1;33m(\u001b[0m\u001b[1;33m)\u001b[0m\u001b[1;33m\u001b[0m\u001b[1;33m\u001b[0m\u001b[0m\n",
      "\u001b[1;32m<ipython-input-52-7b160b3471c0>\u001b[0m in \u001b[0;36mmodify\u001b[1;34m(self, idx, val)\u001b[0m\n\u001b[0;32m     47\u001b[0m \u001b[1;33m\u001b[0m\u001b[0m\n\u001b[0;32m     48\u001b[0m     \u001b[1;32mdef\u001b[0m \u001b[0mmodify\u001b[0m\u001b[1;33m(\u001b[0m\u001b[0mself\u001b[0m\u001b[1;33m,\u001b[0m \u001b[0midx\u001b[0m\u001b[1;33m,\u001b[0m \u001b[0mval\u001b[0m\u001b[1;33m)\u001b[0m\u001b[1;33m:\u001b[0m\u001b[1;33m\u001b[0m\u001b[1;33m\u001b[0m\u001b[0m\n\u001b[1;32m---> 49\u001b[1;33m         \u001b[0mself\u001b[0m\u001b[1;33m.\u001b[0m\u001b[0marr\u001b[0m\u001b[1;33m[\u001b[0m\u001b[0midx\u001b[0m\u001b[1;33m]\u001b[0m \u001b[1;33m=\u001b[0m \u001b[0mval\u001b[0m\u001b[1;33m\u001b[0m\u001b[1;33m\u001b[0m\u001b[0m\n\u001b[0m\u001b[0;32m     50\u001b[0m \u001b[1;33m\u001b[0m\u001b[0m\n\u001b[0;32m     51\u001b[0m \u001b[1;33m\u001b[0m\u001b[0m\n",
      "\u001b[1;31mIndexError\u001b[0m: index 15 is out of bounds for axis 0 with size 1"
     ]
    }
   ],
   "source": [
    "'''\n",
    "Working with NumPy, create a function whic generates 20 random integers between 20\n",
    "and 70.\n",
    "Compute the mean, variance, standard deviation, median, naximum and minimmum values\n",
    "of this data set. The result should be returned as a dictionary.\n",
    "Use appropraite names for the keys of the dictionary. The dictionary being returned\n",
    "should include the data generated as one of its values.\n",
    "'''\n",
    "\n",
    "import numpy as np\n",
    "import matplotlib.pyplot as plt\n",
    "\n",
    "class NpData:\n",
    "    def __init__(self, min, max, size=(1,1)):\n",
    "        self.arr = self._generateRandom(min, max, size)\n",
    "    \n",
    "    def _generateRandom(self, min, max, size):\n",
    "        return np.random.randint(min, max, size)\n",
    "    \n",
    "    def computeMinBool(self, val):\n",
    "        pass\n",
    "    \n",
    "    def computeZScores(self):\n",
    "        '''\n",
    "        (data - mean)/std\n",
    "        '''\n",
    "        arr = np.array([((n - self.result['mean'])/self.result['std-dv']) for n in self.arr])\n",
    "        return arr\n",
    "    \n",
    "    def computeProps(self):\n",
    "        result = {}\n",
    "        result['data-set'] = self.arr\n",
    "        result['mean'] = np.mean(self.arr)\n",
    "        result['variance'] = np.var(self.arr)\n",
    "        result['std-dv'] = np.std(self.arr)\n",
    "        result['median'] = np.median(self.arr)\n",
    "        result['minimum'] = np.amin(self.arr)\n",
    "        result['maximum'] = np.amax(self.arr)\n",
    "        \n",
    "        self.result = result\n",
    "        \n",
    "        return result\n",
    "    \n",
    "    def boxplot(self):\n",
    "        plt.boxplot(self.arr)\n",
    "        plt.show()\n",
    "        \n",
    "    def modify(self, idx, val):\n",
    "        self.arr[0, idx] = val\n",
    "    \n",
    "    \n",
    "data = NpData(20, 70, (1,20))\n",
    "result = data.computeProps()\n",
    "\n",
    "def question1():\n",
    "    print(\"Data set:>> \".format(result))\n",
    "    \n",
    "def question2a():\n",
    "    p = np.sum(data.arr < result['mean'])\n",
    "    print(\"Elements less than mean:>> {}\".format(p))\n",
    "    \n",
    "def question2b():\n",
    "    p = data.computeZScores()\n",
    "    print(\"Z-scores:>> {}\".format(p))\n",
    "    q = np.all((p >= -3) & (p <= 3))\n",
    "    if (q == True):\n",
    "        print(\"All elements of the ndarray lie between -3 and 3\")\n",
    "    else:\n",
    "        print(\"One or more elements of the ndarray lie outside the (-3 <= x <= 3) range\")\n",
    "\n",
    "def question3a():\n",
    "    data.boxplot()\n",
    "    \n",
    "def question4():\n",
    "    data.modify(15, 270)\n",
    "    question1()\n",
    "    question2a()\n",
    "    question2b()\n",
    "    question3a()\n",
    "    \n",
    "        \n",
    "question4()\n"
   ]
  },
  {
   "cell_type": "code",
   "execution_count": null,
   "metadata": {},
   "outputs": [],
   "source": []
  },
  {
   "cell_type": "code",
   "execution_count": null,
   "metadata": {},
   "outputs": [],
   "source": []
  },
  {
   "cell_type": "code",
   "execution_count": null,
   "metadata": {},
   "outputs": [],
   "source": []
  },
  {
   "cell_type": "code",
   "execution_count": null,
   "metadata": {},
   "outputs": [],
   "source": []
  },
  {
   "cell_type": "code",
   "execution_count": null,
   "metadata": {},
   "outputs": [],
   "source": []
  }
 ],
 "metadata": {
  "kernelspec": {
   "display_name": "Python 3",
   "language": "python",
   "name": "python3"
  },
  "language_info": {
   "codemirror_mode": {
    "name": "ipython",
    "version": 3
   },
   "file_extension": ".py",
   "mimetype": "text/x-python",
   "name": "python",
   "nbconvert_exporter": "python",
   "pygments_lexer": "ipython3",
   "version": "3.8.5"
  }
 },
 "nbformat": 4,
 "nbformat_minor": 4
}
